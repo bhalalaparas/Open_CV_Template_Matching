{
 "cells": [
  {
   "cell_type": "code",
   "execution_count": 1,
   "metadata": {},
   "outputs": [],
   "source": [
    "import cv2\n",
    "import numpy as np"
   ]
  },
  {
   "cell_type": "code",
   "execution_count": 2,
   "metadata": {},
   "outputs": [],
   "source": [
    "#Reading main image\n",
    "rgb_img = cv2.imread(r'C:\\Users\\paras\\Desktop\\download.jpg',1)\n",
    "#convert to grayscale\n",
    "gray_img = cv2.cvtColor(rgb_img,cv2.COLOR_BGR2GRAY)"
   ]
  },
  {
   "cell_type": "code",
   "execution_count": 3,
   "metadata": {},
   "outputs": [],
   "source": [
    "#Reading template image\n",
    "template = cv2.imread(r'C:\\Users\\paras\\Desktop\\download1.jpg',0)\n",
    "\n",
    "#width and hight of template\n",
    "w,h = template.shape[::-1]"
   ]
  },
  {
   "cell_type": "code",
   "execution_count": 4,
   "metadata": {},
   "outputs": [],
   "source": [
    "res = cv2.matchTemplate(gray_img,template,cv2.TM_CCOEFF_NORMED)\n",
    "\n",
    "threshold = 0.99\n",
    "loc = np.where(res>=threshold)"
   ]
  },
  {
   "cell_type": "code",
   "execution_count": 5,
   "metadata": {},
   "outputs": [],
   "source": [
    "for pt in zip(*loc[::-1]):\n",
    "    cv2.rectangle(rgb_img,pt,(pt[0]+w,pt[1]+h),(0,0,255),2)\n",
    "    \n",
    "cv2.imshow('image',rgb_img)\n",
    "cv2.waitKey(0)\n",
    "cv2.destroyAllWindows() "
   ]
  }
 ],
 "metadata": {
  "kernelspec": {
   "display_name": "Python 3",
   "language": "python",
   "name": "python3"
  },
  "language_info": {
   "codemirror_mode": {
    "name": "ipython",
    "version": 3
   },
   "file_extension": ".py",
   "mimetype": "text/x-python",
   "name": "python",
   "nbconvert_exporter": "python",
   "pygments_lexer": "ipython3",
   "version": "3.7.4"
  }
 },
 "nbformat": 4,
 "nbformat_minor": 2
}
